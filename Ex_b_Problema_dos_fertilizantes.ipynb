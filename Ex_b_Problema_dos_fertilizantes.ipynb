{
  "nbformat": 4,
  "nbformat_minor": 0,
  "metadata": {
    "colab": {
      "name": "Ex.b_Problema_dos_fertilizantes.ipynb",
      "provenance": [],
      "authorship_tag": "ABX9TyPUQt06t+6wnIBArgCl/W+e",
      "include_colab_link": true
    },
    "kernelspec": {
      "name": "python3",
      "display_name": "Python 3"
    }
  },
  "cells": [
    {
      "cell_type": "markdown",
      "metadata": {
        "id": "view-in-github",
        "colab_type": "text"
      },
      "source": [
        "<a href=\"https://colab.research.google.com/github/guidrumond13/BCC-342_Introducao_a_otimizacao/blob/main/Ex_b_Problema_dos_fertilizantes.ipynb\" target=\"_parent\"><img src=\"https://colab.research.google.com/assets/colab-badge.svg\" alt=\"Open In Colab\"/></a>"
      ]
    },
    {
      "cell_type": "code",
      "metadata": {
        "colab": {
          "base_uri": "https://localhost:8080/"
        },
        "id": "-YJ20Ph_omV7",
        "outputId": "6aa4b568-803f-4ad2-f9bd-ea3510ba2b7b"
      },
      "source": [
        "pip install mip"
      ],
      "execution_count": null,
      "outputs": [
        {
          "output_type": "stream",
          "text": [
            "Requirement already satisfied: mip in /usr/local/lib/python3.6/dist-packages (1.13.0)\n",
            "Requirement already satisfied: cffi in /usr/local/lib/python3.6/dist-packages (from mip) (1.14.4)\n",
            "Requirement already satisfied: pycparser in /usr/local/lib/python3.6/dist-packages (from cffi->mip) (2.20)\n"
          ],
          "name": "stdout"
        }
      ]
    },
    {
      "cell_type": "code",
      "metadata": {
        "id": "xfnwEo3LArIt"
      },
      "source": [
        "  from mip import Model, xsum, MAXIMIZE, INTEGER, MINIMIZE  "
      ],
      "execution_count": null,
      "outputs": []
    },
    {
      "cell_type": "code",
      "metadata": {
        "id": "fBpQFTsKA9LI"
      },
      "source": [
        "nvar = 3\r\n",
        "obj_coef = [50,40,60]\r\n",
        "g_coef = [[10,5,10],[1,1,1],[1,0,0],[1,1,1]]\r\n",
        "g_val = [100000,12000,5000,15000]\r\n",
        "m = Model('fert',sense=MINIMIZE)"
      ],
      "execution_count": null,
      "outputs": []
    },
    {
      "cell_type": "code",
      "metadata": {
        "id": "Y8_Ab1qWDqAn"
      },
      "source": [
        "x = [m.add_var(name='x{}'.format(int(i)),var_type=INTEGER,lb=0)for i in range(nvar)]"
      ],
      "execution_count": null,
      "outputs": []
    },
    {
      "cell_type": "code",
      "metadata": {
        "id": "60QV2t7rEfH2"
      },
      "source": [
        "m.objective = xsum(obj_coef[i]*x[i] for i in range(nvar))\r\n"
      ],
      "execution_count": null,
      "outputs": []
    },
    {
      "cell_type": "code",
      "metadata": {
        "id": "WXCibWDrFK93"
      },
      "source": [
        "for i in range(len(g_val)-1):\r\n",
        "  m += xsum(g_coef[i][j]*x[j]for j in range(nvar)) >= g_val[i]\r\n",
        "m += xsum(x[i] for i in range(3)) <= 15000"
      ],
      "execution_count": null,
      "outputs": []
    },
    {
      "cell_type": "code",
      "metadata": {
        "colab": {
          "base_uri": "https://localhost:8080/"
        },
        "id": "dK2lOAJwWhHv",
        "outputId": "d840d2af-5679-4b8f-e7c9-18a8b6662ffd"
      },
      "source": [
        "m.optimize()"
      ],
      "execution_count": null,
      "outputs": [
        {
          "output_type": "execute_result",
          "data": {
            "text/plain": [
              "<OptimizationStatus.OPTIMAL: 0>"
            ]
          },
          "metadata": {
            "tags": []
          },
          "execution_count": 79
        }
      ]
    },
    {
      "cell_type": "code",
      "metadata": {
        "colab": {
          "base_uri": "https://localhost:8080/"
        },
        "id": "1xPjum_iWkOp",
        "outputId": "04da570f-2627-4b0c-b644-432c8cfa293c"
      },
      "source": [
        "print('Optimal Solution: {}'.format([x[i].x for i in range(nvar)])) "
      ],
      "execution_count": null,
      "outputs": [
        {
          "output_type": "stream",
          "text": [
            "Optimal Solution: [8000.0, 4000.0, 0.0]\n"
          ],
          "name": "stdout"
        }
      ]
    }
  ]
}