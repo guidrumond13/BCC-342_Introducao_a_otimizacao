{
  "nbformat": 4,
  "nbformat_minor": 0,
  "metadata": {
    "colab": {
      "name": "Ex.i_Problema_da_fabrica_de_camisas.ipynb",
      "provenance": [],
      "authorship_tag": "ABX9TyPj9VMLbAw3y8jgfzDoa6FM",
      "include_colab_link": true
    },
    "kernelspec": {
      "name": "python3",
      "display_name": "Python 3"
    }
  },
  "cells": [
    {
      "cell_type": "markdown",
      "metadata": {
        "id": "view-in-github",
        "colab_type": "text"
      },
      "source": [
        "<a href=\"https://colab.research.google.com/github/guidrumond13/BCC-342_Introducao_a_otimizacao/blob/main/Ex_i_Problema_da_fabrica_de_camisas.ipynb\" target=\"_parent\"><img src=\"https://colab.research.google.com/assets/colab-badge.svg\" alt=\"Open In Colab\"/></a>"
      ]
    },
    {
      "cell_type": "code",
      "metadata": {
        "colab": {
          "base_uri": "https://localhost:8080/"
        },
        "id": "J98dOS--z1Rg",
        "outputId": "542458f3-754a-48cc-f134-3fdb0ad098a6"
      },
      "source": [
        "pip install mip"
      ],
      "execution_count": 19,
      "outputs": [
        {
          "output_type": "stream",
          "text": [
            "Requirement already satisfied: mip in /usr/local/lib/python3.6/dist-packages (1.13.0)\n",
            "Requirement already satisfied: cffi in /usr/local/lib/python3.6/dist-packages (from mip) (1.14.4)\n",
            "Requirement already satisfied: pycparser in /usr/local/lib/python3.6/dist-packages (from cffi->mip) (2.20)\n"
          ],
          "name": "stdout"
        }
      ]
    },
    {
      "cell_type": "code",
      "metadata": {
        "id": "zxAKs7Ch0Bc1"
      },
      "source": [
        "from mip import Model, xsum, INTEGER,CONTINUOUS, MAXIMIZE, MINIMIZE"
      ],
      "execution_count": 20,
      "outputs": []
    },
    {
      "cell_type": "code",
      "metadata": {
        "id": "Yg1fuCM80DWU"
      },
      "source": [
        "nvar=2\r\n",
        "obj_coef = [5,3.5]\r\n",
        "g_coef = [1.5,1]\r\n",
        "g_val = [150,300,400]\r\n",
        "m = Model('fabrica',sense=MAXIMIZE)"
      ],
      "execution_count": 21,
      "outputs": []
    },
    {
      "cell_type": "code",
      "metadata": {
        "id": "rIMd4cKS0UzI"
      },
      "source": [
        "x = [m.add_var(name='x{}'.format(int(i)),var_type=INTEGER,lb=0)for i in range(nvar)]"
      ],
      "execution_count": 22,
      "outputs": []
    },
    {
      "cell_type": "code",
      "metadata": {
        "id": "CbJ2Dstf0cDE"
      },
      "source": [
        "m.objective = xsum(obj_coef[i]*x[i] for i in range(nvar))"
      ],
      "execution_count": 23,
      "outputs": []
    },
    {
      "cell_type": "code",
      "metadata": {
        "id": "ay3lqPuu0gPO"
      },
      "source": [
        "m += x[0] <= g_val[0]\r\n",
        "m += x[1] <= g_val[1]"
      ],
      "execution_count": 24,
      "outputs": []
    },
    {
      "cell_type": "code",
      "metadata": {
        "id": "N5HL_pAo1ven"
      },
      "source": [
        "m += g_coef[0]*x[0]+g_coef[1]*x[1] == g_val[2]"
      ],
      "execution_count": 25,
      "outputs": []
    },
    {
      "cell_type": "code",
      "metadata": {
        "colab": {
          "base_uri": "https://localhost:8080/"
        },
        "id": "UT-zQk4b3JUB",
        "outputId": "96d10b15-57e1-4698-a8b4-002906ac0938"
      },
      "source": [
        "m.optimize()"
      ],
      "execution_count": 26,
      "outputs": [
        {
          "output_type": "execute_result",
          "data": {
            "text/plain": [
              "<OptimizationStatus.OPTIMAL: 0>"
            ]
          },
          "metadata": {
            "tags": []
          },
          "execution_count": 26
        }
      ]
    },
    {
      "cell_type": "code",
      "metadata": {
        "colab": {
          "base_uri": "https://localhost:8080/"
        },
        "id": "E69lCzl93N_R",
        "outputId": "b6a5d99a-25d6-4cea-f184-e7d952a40724"
      },
      "source": [
        "print('Optimal Solution: {}'.format([x[i].x for i in range(nvar)])) "
      ],
      "execution_count": 27,
      "outputs": [
        {
          "output_type": "stream",
          "text": [
            "Optimal Solution: [68.0, 298.0]\n"
          ],
          "name": "stdout"
        }
      ]
    }
  ]
}