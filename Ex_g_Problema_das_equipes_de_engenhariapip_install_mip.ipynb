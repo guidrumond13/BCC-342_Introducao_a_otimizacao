{
  "nbformat": 4,
  "nbformat_minor": 0,
  "metadata": {
    "colab": {
      "name": "Ex.g_Problema_das_equipes_de_engenhariapip install mip.ipynb",
      "provenance": [],
      "authorship_tag": "ABX9TyPAqHX5hIIiVa5vYtBkcHqH",
      "include_colab_link": true
    },
    "kernelspec": {
      "name": "python3",
      "display_name": "Python 3"
    }
  },
  "cells": [
    {
      "cell_type": "markdown",
      "metadata": {
        "id": "view-in-github",
        "colab_type": "text"
      },
      "source": [
        "<a href=\"https://colab.research.google.com/github/guidrumond13/BCC-342_Introducao_a_otimizacao/blob/main/Ex_g_Problema_das_equipes_de_engenhariapip_install_mip.ipynb\" target=\"_parent\"><img src=\"https://colab.research.google.com/assets/colab-badge.svg\" alt=\"Open In Colab\"/></a>"
      ]
    },
    {
      "cell_type": "code",
      "metadata": {
        "colab": {
          "base_uri": "https://localhost:8080/"
        },
        "id": "tKZY0cIqc6s7",
        "outputId": "b3758c2d-884c-4d79-9c2c-73c65cfcbcb8"
      },
      "source": [
        "pip install mip"
      ],
      "execution_count": 75,
      "outputs": [
        {
          "output_type": "stream",
          "text": [
            "Requirement already satisfied: mip in /usr/local/lib/python3.6/dist-packages (1.13.0)\n",
            "Requirement already satisfied: cffi in /usr/local/lib/python3.6/dist-packages (from mip) (1.14.4)\n",
            "Requirement already satisfied: pycparser in /usr/local/lib/python3.6/dist-packages (from cffi->mip) (2.20)\n"
          ],
          "name": "stdout"
        }
      ]
    },
    {
      "cell_type": "code",
      "metadata": {
        "id": "bc2plWD2dKXU"
      },
      "source": [
        "from mip import Model, xsum, INTEGER,CONTINUOUS, MAXIMIZE, MINIMIZE"
      ],
      "execution_count": 76,
      "outputs": []
    },
    {
      "cell_type": "code",
      "metadata": {
        "id": "cO2-Wh-Ad1_A"
      },
      "source": [
        "obj_coef = [2,4,1.5,1]\r\n",
        "g_coef = [[40,80],[80,20]]\r\n",
        "g_val = [[80,-40],[60,20],[80],[20]]\r\n",
        "m = Model('equipes',sense=MAXIMIZE)"
      ],
      "execution_count": 77,
      "outputs": []
    },
    {
      "cell_type": "code",
      "metadata": {
        "id": "zXmr8bLPtpAz"
      },
      "source": [
        "x = [m.add_var(lb=0)for i in range(2)]"
      ],
      "execution_count": 78,
      "outputs": []
    },
    {
      "cell_type": "code",
      "metadata": {
        "id": "Lv_kMh66R-Ua"
      },
      "source": [
        "m.objective = x[0]"
      ],
      "execution_count": 79,
      "outputs": []
    },
    {
      "cell_type": "code",
      "metadata": {
        "id": "wF7EfTv1SFPp"
      },
      "source": [
        "m += 40*x[1]+80*(1-x[1]) >= x[0]\r\n",
        "m += 80*x[1]+20*(1-x[1]) >= x[0]\r\n",
        "m += x[1] <= 1 #como o lb=0, fica 0<=x[1]<=1"
      ],
      "execution_count": 80,
      "outputs": []
    },
    {
      "cell_type": "code",
      "metadata": {
        "colab": {
          "base_uri": "https://localhost:8080/"
        },
        "id": "brXl_w4ft7Qe",
        "outputId": "94e833c4-42a8-455c-c5df-4b1d2b9fe7e6"
      },
      "source": [
        "m.optimize()"
      ],
      "execution_count": 81,
      "outputs": [
        {
          "output_type": "execute_result",
          "data": {
            "text/plain": [
              "<OptimizationStatus.OPTIMAL: 0>"
            ]
          },
          "metadata": {
            "tags": []
          },
          "execution_count": 81
        }
      ]
    },
    {
      "cell_type": "code",
      "metadata": {
        "colab": {
          "base_uri": "https://localhost:8080/"
        },
        "id": "caG1KsDDT89D",
        "outputId": "4568d7ef-d052-45e5-ba49-02c92d8da453"
      },
      "source": [
        "print('Optimal Solution: {} em porcentagem'.format([x[0].x])) "
      ],
      "execution_count": 82,
      "outputs": [
        {
          "output_type": "stream",
          "text": [
            "Optimal Solution: [56.000000000000014] em porcentagem\n"
          ],
          "name": "stdout"
        }
      ]
    }
  ]
}