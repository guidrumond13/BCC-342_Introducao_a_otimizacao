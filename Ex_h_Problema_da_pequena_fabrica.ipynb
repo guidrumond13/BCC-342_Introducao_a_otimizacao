{
  "nbformat": 4,
  "nbformat_minor": 0,
  "metadata": {
    "colab": {
      "name": "Ex.h_Problema_da_pequena_fabrica.ipynb",
      "provenance": [],
      "authorship_tag": "ABX9TyO7/m45Lm7rERVldNf1n/cn",
      "include_colab_link": true
    },
    "kernelspec": {
      "name": "python3",
      "display_name": "Python 3"
    }
  },
  "cells": [
    {
      "cell_type": "markdown",
      "metadata": {
        "id": "view-in-github",
        "colab_type": "text"
      },
      "source": [
        "<a href=\"https://colab.research.google.com/github/guidrumond13/BCC-342_Introducao_a_otimizacao/blob/main/Ex_h_Problema_da_pequena_fabrica.ipynb\" target=\"_parent\"><img src=\"https://colab.research.google.com/assets/colab-badge.svg\" alt=\"Open In Colab\"/></a>"
      ]
    },
    {
      "cell_type": "code",
      "metadata": {
        "colab": {
          "base_uri": "https://localhost:8080/"
        },
        "id": "39InzFAFwfAK",
        "outputId": "4bd01557-8e79-44cd-8a85-cba33d341453"
      },
      "source": [
        "pip install mip"
      ],
      "execution_count": 1,
      "outputs": [
        {
          "output_type": "stream",
          "text": [
            "Collecting mip\n",
            "\u001b[?25l  Downloading https://files.pythonhosted.org/packages/e5/7c/615a417b8b74dde4c3573f09c79612e3e0ed8c9b9488daf67e86cde350d2/mip-1.13.0-py3-none-any.whl (48.0MB)\n",
            "\u001b[K     |████████████████████████████████| 48.0MB 84kB/s \n",
            "\u001b[?25hRequirement already satisfied: cffi in /usr/local/lib/python3.6/dist-packages (from mip) (1.14.4)\n",
            "Requirement already satisfied: pycparser in /usr/local/lib/python3.6/dist-packages (from cffi->mip) (2.20)\n",
            "Installing collected packages: mip\n",
            "Successfully installed mip-1.13.0\n"
          ],
          "name": "stdout"
        }
      ]
    },
    {
      "cell_type": "code",
      "metadata": {
        "id": "GYmLnOVAwrUF"
      },
      "source": [
        "from mip import Model, xsum, INTEGER,CONTINUOUS, MAXIMIZE, MINIMIZE"
      ],
      "execution_count": 3,
      "outputs": []
    },
    {
      "cell_type": "code",
      "metadata": {
        "id": "Iw-RZErQwtQL"
      },
      "source": [
        "nvar=2\r\n",
        "obj_coef = [2,5]\r\n",
        "g_coef = [[3,4],[9,7]]\r\n",
        "g_val = [400,300]\r\n",
        "m = Model('fabrica',sense=MAXIMIZE)"
      ],
      "execution_count": 4,
      "outputs": []
    },
    {
      "cell_type": "code",
      "metadata": {
        "id": "81175bRLw_fi"
      },
      "source": [
        "x = [m.add_var(name='x{}'.format(int(i)),var_type=INTEGER,lb=0)for i in range(nvar)]"
      ],
      "execution_count": 6,
      "outputs": []
    },
    {
      "cell_type": "code",
      "metadata": {
        "id": "kLXDclSZxEMT"
      },
      "source": [
        "m.objective = xsum(obj_coef[i]*x[i] for i in range(nvar))"
      ],
      "execution_count": 7,
      "outputs": []
    },
    {
      "cell_type": "code",
      "metadata": {
        "id": "bjI_VjkkxIGH"
      },
      "source": [
        "for i in range(len(g_val)):\r\n",
        "  m += xsum(g_coef[i][j]*x[j]for j in range(nvar)) <= g_val[i]"
      ],
      "execution_count": 8,
      "outputs": []
    },
    {
      "cell_type": "code",
      "metadata": {
        "colab": {
          "base_uri": "https://localhost:8080/"
        },
        "id": "kc_5Ng8TxPkz",
        "outputId": "d0499fa2-a341-4267-8ca8-2d977cb16e0e"
      },
      "source": [
        "m.optimize()"
      ],
      "execution_count": 9,
      "outputs": [
        {
          "output_type": "execute_result",
          "data": {
            "text/plain": [
              "<OptimizationStatus.OPTIMAL: 0>"
            ]
          },
          "metadata": {
            "tags": []
          },
          "execution_count": 9
        }
      ]
    },
    {
      "cell_type": "code",
      "metadata": {
        "colab": {
          "base_uri": "https://localhost:8080/"
        },
        "id": "9FSiqe02xSS-",
        "outputId": "bbaa00e4-f1b8-430d-c06c-9d094495e42b"
      },
      "source": [
        "print('Optimal Solution: {}'.format([x[i].x for i in range(nvar)])) "
      ],
      "execution_count": 10,
      "outputs": [
        {
          "output_type": "stream",
          "text": [
            "Optimal Solution: [0.0, 42.0]\n"
          ],
          "name": "stdout"
        }
      ]
    }
  ]
}