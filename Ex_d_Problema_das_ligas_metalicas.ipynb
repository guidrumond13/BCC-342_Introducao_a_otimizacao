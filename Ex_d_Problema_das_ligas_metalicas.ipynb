{
  "nbformat": 4,
  "nbformat_minor": 0,
  "metadata": {
    "colab": {
      "name": "Ex.d_Problema_das_ligas_metalicas.ipynb",
      "provenance": [],
      "authorship_tag": "ABX9TyNt4cuwDsQITaQ3M3r5LL4m",
      "include_colab_link": true
    },
    "kernelspec": {
      "name": "python3",
      "display_name": "Python 3"
    }
  },
  "cells": [
    {
      "cell_type": "markdown",
      "metadata": {
        "id": "view-in-github",
        "colab_type": "text"
      },
      "source": [
        "<a href=\"https://colab.research.google.com/github/guidrumond13/BCC-342_Introducao_a_otimizacao/blob/main/Ex_d_Problema_das_ligas_metalicas.ipynb\" target=\"_parent\"><img src=\"https://colab.research.google.com/assets/colab-badge.svg\" alt=\"Open In Colab\"/></a>"
      ]
    },
    {
      "cell_type": "code",
      "metadata": {
        "colab": {
          "base_uri": "https://localhost:8080/"
        },
        "id": "pcIuXfbSYON8",
        "outputId": "0b814551-9b35-4701-edfc-dac5fb692d34"
      },
      "source": [
        "pip install mip"
      ],
      "execution_count": null,
      "outputs": [
        {
          "output_type": "stream",
          "text": [
            "Requirement already satisfied: mip in /usr/local/lib/python3.6/dist-packages (1.13.0)\n",
            "Requirement already satisfied: cffi in /usr/local/lib/python3.6/dist-packages (from mip) (1.14.4)\n",
            "Requirement already satisfied: pycparser in /usr/local/lib/python3.6/dist-packages (from cffi->mip) (2.20)\n"
          ],
          "name": "stdout"
        }
      ]
    },
    {
      "cell_type": "code",
      "metadata": {
        "id": "BKGRpoaub_AT"
      },
      "source": [
        "from mip import Model, xsum, INTEGER,CONTINUOUS, MAXIMIZE, MINIMIZE\r\n"
      ],
      "execution_count": null,
      "outputs": []
    },
    {
      "cell_type": "code",
      "metadata": {
        "id": "zMKC2JxxcAik"
      },
      "source": [
        "nvar = 2\r\n",
        "obj_coef = [3000,5000]\r\n",
        "g_coef = [[0.5,0.2],[0.25,0.3],[0.25,0.5]]\r\n",
        "g_val = [16,11,15]\r\n",
        "m = Model('metal',sense=MAXIMIZE)"
      ],
      "execution_count": null,
      "outputs": []
    },
    {
      "cell_type": "code",
      "metadata": {
        "id": "k16FYKgedAra"
      },
      "source": [
        "x = [m.add_var(name='x{}'.format(int(i)),var_type=INTEGER,lb=0)for i in range(nvar)]"
      ],
      "execution_count": null,
      "outputs": []
    },
    {
      "cell_type": "code",
      "metadata": {
        "id": "XmdYcNuOdK74"
      },
      "source": [
        "m.objective = xsum(obj_coef[i]*x[i] for i in range(nvar))"
      ],
      "execution_count": null,
      "outputs": []
    },
    {
      "cell_type": "code",
      "metadata": {
        "id": "8p1NPyBYdTn4"
      },
      "source": [
        "for i in range(len(g_val)):\r\n",
        "  m += xsum(g_coef[i][j]*x[j]for j in range(nvar)) <= g_val[i]"
      ],
      "execution_count": null,
      "outputs": []
    },
    {
      "cell_type": "code",
      "metadata": {
        "colab": {
          "base_uri": "https://localhost:8080/"
        },
        "id": "shqyegVre_F4",
        "outputId": "124f0cb8-dfc0-41ec-c18a-a7fa7fa335c0"
      },
      "source": [
        "m.optimize()"
      ],
      "execution_count": null,
      "outputs": [
        {
          "output_type": "execute_result",
          "data": {
            "text/plain": [
              "<OptimizationStatus.OPTIMAL: 0>"
            ]
          },
          "metadata": {
            "tags": []
          },
          "execution_count": 39
        }
      ]
    },
    {
      "cell_type": "code",
      "metadata": {
        "colab": {
          "base_uri": "https://localhost:8080/"
        },
        "id": "jZckGIakfB6X",
        "outputId": "7ecea8b5-fda2-4403-bf32-10208ef43a06"
      },
      "source": [
        "print('Optimal Solution: {}'.format([x[i].x for i in range(nvar)])) "
      ],
      "execution_count": null,
      "outputs": [
        {
          "output_type": "stream",
          "text": [
            "Optimal Solution: [20.0, 20.0]\n"
          ],
          "name": "stdout"
        }
      ]
    }
  ]
}