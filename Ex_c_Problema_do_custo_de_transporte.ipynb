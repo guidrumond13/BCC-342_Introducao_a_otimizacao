{
  "nbformat": 4,
  "nbformat_minor": 0,
  "metadata": {
    "colab": {
      "name": "Ex.c_Problema_do_custo_de_transporte.ipynb",
      "provenance": [],
      "authorship_tag": "ABX9TyMtIsg3F5x74kvrjJr3M8DA",
      "include_colab_link": true
    },
    "kernelspec": {
      "name": "python3",
      "display_name": "Python 3"
    }
  },
  "cells": [
    {
      "cell_type": "markdown",
      "metadata": {
        "id": "view-in-github",
        "colab_type": "text"
      },
      "source": [
        "<a href=\"https://colab.research.google.com/github/guidrumond13/BCC-342_Introducao_a_otimizacao/blob/main/Ex_c_Problema_do_custo_de_transporte.ipynb\" target=\"_parent\"><img src=\"https://colab.research.google.com/assets/colab-badge.svg\" alt=\"Open In Colab\"/></a>"
      ]
    },
    {
      "cell_type": "code",
      "metadata": {
        "colab": {
          "base_uri": "https://localhost:8080/"
        },
        "id": "MJH5XqeTRPKH",
        "outputId": "e50d93d5-4b77-464a-8011-1c1bd2849f8f"
      },
      "source": [
        "pip install mip"
      ],
      "execution_count": null,
      "outputs": [
        {
          "output_type": "stream",
          "text": [
            "Requirement already satisfied: mip in /usr/local/lib/python3.6/dist-packages (1.13.0)\n",
            "Requirement already satisfied: cffi in /usr/local/lib/python3.6/dist-packages (from mip) (1.14.4)\n",
            "Requirement already satisfied: pycparser in /usr/local/lib/python3.6/dist-packages (from cffi->mip) (2.20)\n"
          ],
          "name": "stdout"
        }
      ]
    },
    {
      "cell_type": "code",
      "metadata": {
        "id": "E7QvY48bRjew"
      },
      "source": [
        "  from mip import Model, xsum, MAXIMIZE, INTEGER, MINIMIZE  "
      ],
      "execution_count": null,
      "outputs": []
    },
    {
      "cell_type": "code",
      "metadata": {
        "id": "HMlOXOXxRlGJ"
      },
      "source": [
        "cost = [[40,50,55,9999999],\r\n",
        "        [999999999,60,30,50]]\r\n",
        "m = Model('Casacos',sense=MINIMIZE)\r\n",
        "x = [[m.add_var(var_type=INTEGER,lb=0) for j in range(4)] for i in range(2)] "
      ],
      "execution_count": null,
      "outputs": []
    },
    {
      "cell_type": "code",
      "metadata": {
        "id": "EUZ-3TEwTXwP"
      },
      "source": [
        "m.objective = xsum(cost[i][j]*x[i][j] for i in range(2) for j in range(4))"
      ],
      "execution_count": null,
      "outputs": []
    },
    {
      "cell_type": "code",
      "metadata": {
        "id": "cYsN0VowTZOp"
      },
      "source": [
        "m += x[1][0] == 0\r\n",
        "m += x[0][3] == 0\r\n",
        "m += xsum(x[0][j] for j in range(4)) == 6000\r\n",
        "m += xsum(x[1][j] for j in range(4)) == 9000\r\n",
        "m += x[0][0] <= 2500\r\n",
        "m += x[1][3] <= 3500 \r\n",
        "m += xsum(x[i][1] for i in range(2)) <= 4500\r\n",
        "m += xsum(x[i][2] for i in range(2)) <= 5500"
      ],
      "execution_count": null,
      "outputs": []
    },
    {
      "cell_type": "code",
      "metadata": {
        "colab": {
          "base_uri": "https://localhost:8080/"
        },
        "id": "It1qkiwpXgYS",
        "outputId": "062d0584-8c85-4809-d801-1dee3faf2765"
      },
      "source": [
        "m.optimize()"
      ],
      "execution_count": null,
      "outputs": [
        {
          "output_type": "execute_result",
          "data": {
            "text/plain": [
              "<OptimizationStatus.OPTIMAL: 0>"
            ]
          },
          "metadata": {
            "tags": []
          },
          "execution_count": 10
        }
      ]
    },
    {
      "cell_type": "code",
      "metadata": {
        "colab": {
          "base_uri": "https://localhost:8080/"
        },
        "id": "zrF6BzhUXjBE",
        "outputId": "35a98b90-04d8-4d91-8adc-018f16ae55b0"
      },
      "source": [
        "print('Optimal Solution: {}'.format([x[i][j].x for i in range(2) for j in range(4)]))"
      ],
      "execution_count": null,
      "outputs": [
        {
          "output_type": "stream",
          "text": [
            "Optimal Solution: [2500.0, 3500.0, 0.0, 0.0, 0.0, 0.0, 5500.0, 3500.0]\n"
          ],
          "name": "stdout"
        }
      ]
    }
  ]
}