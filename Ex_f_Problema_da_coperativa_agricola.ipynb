{
  "nbformat": 4,
  "nbformat_minor": 0,
  "metadata": {
    "colab": {
      "name": "Ex.f_Problema_da_coperativa_agricola",
      "provenance": [],
      "authorship_tag": "ABX9TyOEZwQJZc1zcwFPzk/t3PS2",
      "include_colab_link": true
    },
    "kernelspec": {
      "name": "python3",
      "display_name": "Python 3"
    }
  },
  "cells": [
    {
      "cell_type": "markdown",
      "metadata": {
        "id": "view-in-github",
        "colab_type": "text"
      },
      "source": [
        "<a href=\"https://colab.research.google.com/github/guidrumond13/BCC-342_Introducao_a_otimizacao/blob/main/Ex_f_Problema_da_coperativa_agricola.ipynb\" target=\"_parent\"><img src=\"https://colab.research.google.com/assets/colab-badge.svg\" alt=\"Open In Colab\"/></a>"
      ]
    },
    {
      "cell_type": "code",
      "metadata": {
        "colab": {
          "base_uri": "https://localhost:8080/"
        },
        "id": "tsEcu26n3_wN",
        "outputId": "bc51d16a-024c-4d98-d993-0073414ec3c6"
      },
      "source": [
        "pip install mip"
      ],
      "execution_count": 48,
      "outputs": [
        {
          "output_type": "stream",
          "text": [
            "Requirement already satisfied: mip in /usr/local/lib/python3.6/dist-packages (1.13.0)\n",
            "Requirement already satisfied: cffi in /usr/local/lib/python3.6/dist-packages (from mip) (1.14.4)\n",
            "Requirement already satisfied: pycparser in /usr/local/lib/python3.6/dist-packages (from cffi->mip) (2.20)\n"
          ],
          "name": "stdout"
        }
      ]
    },
    {
      "cell_type": "code",
      "metadata": {
        "id": "jPvtoKvR4gWg"
      },
      "source": [
        "from mip import Model, xsum, INTEGER,CONTINUOUS, MAXIMIZE, MINIMIZE"
      ],
      "execution_count": 49,
      "outputs": []
    },
    {
      "cell_type": "code",
      "metadata": {
        "id": "6ccTzwJi4jvx"
      },
      "source": [
        "cultura = [[660,5.5,5000],\r\n",
        "           [880,4,4000],\r\n",
        "           [400,3.5,1800]]\r\n",
        "fazenda = [[400,1800],\r\n",
        "           [650,2200],\r\n",
        "           [350,950]]\r\n",
        "m = Model('cooperativa',sense=MAXIMIZE)\r\n",
        "x = [[m.add_var(lb=0) for j in range(len(cultura))] for i in range(len(fazenda))] "
      ],
      "execution_count": 50,
      "outputs": []
    },
    {
      "cell_type": "code",
      "metadata": {
        "id": "zrClvaYHGAZ_"
      },
      "source": [
        "m.objective = xsum(cultura[i][2]*x[j][i] for i in range(len(cultura))for j in range(len(fazenda))) "
      ],
      "execution_count": 51,
      "outputs": []
    },
    {
      "cell_type": "code",
      "metadata": {
        "id": "0dIgUS1aQ0tk"
      },
      "source": [
        "for i in range(len(fazenda)):\r\n",
        "  m += xsum(x[i][j] for j in range(len(cultura)))<=fazenda[i][0]\r\n",
        "  m += xsum(x[i][j]*cultura[j][1] for j in range(len(cultura)))<=fazenda[i][1]"
      ],
      "execution_count": 52,
      "outputs": []
    },
    {
      "cell_type": "code",
      "metadata": {
        "id": "LTc7LzDUX9eW"
      },
      "source": [
        "for i in range(len(cultura)):\r\n",
        "  m += xsum(x[j][i] for j in range(len(fazenda)))<=cultura[i][0]"
      ],
      "execution_count": 53,
      "outputs": []
    },
    {
      "cell_type": "code",
      "metadata": {
        "id": "G27KRKLMTJiF"
      },
      "source": [
        " m += xsum(x[0][i] for i in range(len(cultura)))/fazenda[0][0]==xsum(x[1][i] for i in range(len(cultura)))/fazenda[1][0]\r\n",
        " m += xsum(x[1][i] for i in range(len(cultura)))/fazenda[1][0]==xsum(x[2][i] for i in range(len(cultura)))/fazenda[2][0]"
      ],
      "execution_count": 54,
      "outputs": []
    },
    {
      "cell_type": "code",
      "metadata": {
        "colab": {
          "base_uri": "https://localhost:8080/"
        },
        "id": "p8ulg3vHIqTg",
        "outputId": "a4b35632-fb96-4cc4-a6e1-2bb290321421"
      },
      "source": [
        "m.optimize()"
      ],
      "execution_count": 55,
      "outputs": [
        {
          "output_type": "execute_result",
          "data": {
            "text/plain": [
              "<OptimizationStatus.OPTIMAL: 0>"
            ]
          },
          "metadata": {
            "tags": []
          },
          "execution_count": 55
        }
      ]
    },
    {
      "cell_type": "code",
      "metadata": {
        "colab": {
          "base_uri": "https://localhost:8080/"
        },
        "id": "8EAPqVe-ZOE0",
        "outputId": "d2791e9d-9d1b-4243-d8cc-945fd451ac5e"
      },
      "source": [
        "for i in range(len(fazenda)):\r\n",
        "  print([x[i][j].x for j in range(len(cultura))])"
      ],
      "execution_count": 58,
      "outputs": [
        {
          "output_type": "stream",
          "text": [
            "[271.42857142857144, 0.0, 0.0]\n",
            "[290.4761904761904, 150.59523809523816, 0.0]\n",
            "[0.0, 237.5, 0.0]\n"
          ],
          "name": "stdout"
        }
      ]
    }
  ]
}